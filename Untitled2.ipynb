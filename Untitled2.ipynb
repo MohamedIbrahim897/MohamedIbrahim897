{
  "nbformat": 4,
  "nbformat_minor": 0,
  "metadata": {
    "colab": {
      "provenance": [],
      "authorship_tag": "ABX9TyPDw9Gt8MV/tm7N0YIQnaGm",
      "include_colab_link": true
    },
    "kernelspec": {
      "name": "python3",
      "display_name": "Python 3"
    },
    "language_info": {
      "name": "python"
    }
  },
  "cells": [
    {
      "cell_type": "markdown",
      "metadata": {
        "id": "view-in-github",
        "colab_type": "text"
      },
      "source": [
        "<a href=\"https://colab.research.google.com/github/MohamedIbrahim897/MohamedIbrahim897/blob/main/Untitled2.ipynb\" target=\"_parent\"><img src=\"https://colab.research.google.com/assets/colab-badge.svg\" alt=\"Open In Colab\"/></a>"
      ]
    },
    {
      "cell_type": "code",
      "execution_count": 31,
      "metadata": {
        "id": "e7MOoA950S1k"
      },
      "outputs": [],
      "source": [
        "total_kgs_wheat_harvest = 2050\n",
        "total_kgs_potato_harvest = 3600"
      ]
    },
    {
      "cell_type": "code",
      "source": [
        "total_kgs_harvest = total_kgs_wheat_harvest + total_kgs_potato_harvest\n",
        "print(\"Total harvest in kilograms:\", total_kgs_harvest)"
      ],
      "metadata": {
        "colab": {
          "base_uri": "https://localhost:8080/"
        },
        "id": "fnzBbWHs0qd0",
        "outputId": "e49c3d9d-108b-471d-aaca-499d3ae93c59"
      },
      "execution_count": 32,
      "outputs": [
        {
          "output_type": "stream",
          "name": "stdout",
          "text": [
            "Total harvest in kilograms: 5650\n"
          ]
        }
      ]
    },
    {
      "cell_type": "code",
      "source": [
        "seed_expense = 650\n",
        "labour_expense = 3070\n"
      ],
      "metadata": {
        "id": "FISuxvmi1Z1f"
      },
      "execution_count": 33,
      "outputs": []
    },
    {
      "cell_type": "code",
      "source": [
        "total_expenses_dollars = seed_expense + labour_expense\n",
        "print(total_expenses_dollars)"
      ],
      "metadata": {
        "colab": {
          "base_uri": "https://localhost:8080/"
        },
        "id": "kE-VKNQd1ic5",
        "outputId": "1089112e-56b6-4c84-a041-8b0273414391"
      },
      "execution_count": 34,
      "outputs": [
        {
          "output_type": "stream",
          "name": "stdout",
          "text": [
            "3720\n"
          ]
        }
      ]
    },
    {
      "cell_type": "code",
      "source": [
        "price_per_kg_wheat = 2\n",
        "price_per_kg_potato = 1.4\n",
        "total_kgs_wheat_harvest = 2050\n",
        "total_kgs_potato_harvest = 3600\n"
      ],
      "metadata": {
        "id": "n6F_zlz9150K"
      },
      "execution_count": 35,
      "outputs": []
    },
    {
      "cell_type": "code",
      "source": [
        "revenue_from_wheat=price_per_kg_wheat*total_kgs_wheat_harvest\n",
        "revenue_from_potato=price_per_kg_potato*total_kgs_potato_harvest\n",
        "total_revenue_dollars=revenue_from_wheat+revenue_from_potato\n",
        "print(total_revenue_dollars)"
      ],
      "metadata": {
        "colab": {
          "base_uri": "https://localhost:8080/"
        },
        "id": "AVBnar_s3Cwy",
        "outputId": "8fd1d6e5-7884-4778-ad8a-87555980a990"
      },
      "execution_count": 36,
      "outputs": [
        {
          "output_type": "stream",
          "name": "stdout",
          "text": [
            "9140.0\n"
          ]
        }
      ]
    },
    {
      "cell_type": "code",
      "source": [
        "total_profit_dollars=total_revenue_dollars-total_expenses_dollars\n",
        "print(total_profit_dollars)"
      ],
      "metadata": {
        "colab": {
          "base_uri": "https://localhost:8080/"
        },
        "id": "1RYD-kCW3n7e",
        "outputId": "7c230412-a83a-4cff-d0b6-bca6ea409ce3"
      },
      "execution_count": 37,
      "outputs": [
        {
          "output_type": "stream",
          "name": "stdout",
          "text": [
            "5420.0\n"
          ]
        }
      ]
    }
  ]
}